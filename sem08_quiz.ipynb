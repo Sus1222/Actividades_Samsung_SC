{
  "cells": [
    {
      "cell_type": "markdown",
      "metadata": {
        "id": "view-in-github",
        "colab_type": "text"
      },
      "source": [
        "<a href=\"https://colab.research.google.com/github/Sus1222/Actividades_Samsung_SC/blob/main/sem08_quiz.ipynb\" target=\"_parent\"><img src=\"https://colab.research.google.com/assets/colab-badge.svg\" alt=\"Open In Colab\"/></a>"
      ]
    },
    {
      "cell_type": "markdown",
      "id": "49909eb6",
      "metadata": {
        "id": "49909eb6"
      },
      "source": [
        "# Coding and Programming\n",
        "\n",
        "## Capítulo 7\n",
        "\n",
        "### Procesamiento de datos, estadísticas descriptivas y visualización de datos\n",
        "\n",
        "- **Unidad 34.** Uso de módulos de Python\n",
        "- **Unidad 35.** Serie de Pandas para el tratamiento de datos\n",
        "- **Unidad 36.** Pandas DataFrame para procesamiento de datos\n",
        "- **Unidad 37.** Ordenamiento de datos\n",
        "- **Unidad 38.** Datos de series temporales\n",
        "\n"
      ]
    },
    {
      "cell_type": "markdown",
      "id": "2e42031a",
      "metadata": {
        "id": "2e42031a"
      },
      "source": [
        "___"
      ]
    },
    {
      "cell_type": "markdown",
      "id": "780f0fff",
      "metadata": {
        "id": "780f0fff"
      },
      "source": [
        "## Q 34-01\n",
        "\n",
        "Convierta los siguientes datos del diccionario en un dataframe usando **Pandas**.\n",
        "\n",
        "(Denomina el dataframe `df`)\n",
        "\n",
        "`d = { 'col1':[1,2], 'col2':[3,4], 'col3':[5,6], 'col4':[7,8] }`"
      ]
    },
    {
      "cell_type": "code",
      "source": [
        "import pandas as pd\n",
        "\n",
        "# Diccionario de datos\n",
        "d = { 'col1':[1,2], 'col2':[3,4], 'col3':[5,6], 'col4':[7,8] }\n",
        "\n",
        "# Convertir el diccionario a un DataFrame\n",
        "df = pd.DataFrame(d)\n",
        "\n",
        "# Mostrar el DataFrame\n",
        "print(df)\n"
      ],
      "metadata": {
        "colab": {
          "base_uri": "https://localhost:8080/"
        },
        "id": "h3txL2Ubrq2a",
        "outputId": "562d511d-6ae9-4975-cb71-2d4ef508b237"
      },
      "id": "h3txL2Ubrq2a",
      "execution_count": 2,
      "outputs": [
        {
          "output_type": "stream",
          "name": "stdout",
          "text": [
            "   col1  col2  col3  col4\n",
            "0     1     3     5     7\n",
            "1     2     4     6     8\n"
          ]
        }
      ]
    },
    {
      "cell_type": "markdown",
      "id": "b3305507",
      "metadata": {
        "id": "b3305507"
      },
      "source": []
    },
    {
      "cell_type": "markdown",
      "id": "f77a6a5c",
      "metadata": {
        "id": "f77a6a5c"
      },
      "source": [
        "___"
      ]
    },
    {
      "cell_type": "markdown",
      "id": "89395b47",
      "metadata": {
        "id": "89395b47"
      },
      "source": [
        "## Q 35-01\n",
        "\n",
        "En el marco de datos creado en la pregunta **Q 34-01**, cree un nuevo dataframe que consista solo en los datos de la columna con el nombre de columna `'col4'`.\n",
        "\n",
        "(Denomina el dataframe `new_df`)\n"
      ]
    },
    {
      "cell_type": "code",
      "source": [
        "# Crear un nuevo dataframe con solo la columna 'col4'\n",
        "new_df = df[['col4']]\n",
        "\n",
        "# Mostrar el nuevo dataframe\n",
        "print(new_df)\n"
      ],
      "metadata": {
        "colab": {
          "base_uri": "https://localhost:8080/"
        },
        "id": "pPkXcIASsMHQ",
        "outputId": "0e5967ab-a63a-4245-b165-b7543f042aa5"
      },
      "id": "pPkXcIASsMHQ",
      "execution_count": 3,
      "outputs": [
        {
          "output_type": "stream",
          "name": "stdout",
          "text": [
            "   col4\n",
            "0     7\n",
            "1     8\n"
          ]
        }
      ]
    },
    {
      "cell_type": "markdown",
      "id": "6f896a18",
      "metadata": {
        "id": "6f896a18"
      },
      "source": []
    },
    {
      "cell_type": "markdown",
      "id": "4b5b87cd",
      "metadata": {
        "id": "4b5b87cd"
      },
      "source": [
        "___"
      ]
    },
    {
      "cell_type": "markdown",
      "id": "881569fc",
      "metadata": {
        "id": "881569fc"
      },
      "source": [
        "## Q 36-01\n",
        "\n",
        "El índice del dataframe creado en la pregunta **Q 34-01** es `0` y `1`.\n",
        "\n",
        "Escriba un comando para cambiar el nombre de estos índices a `primero` y `segundo`."
      ]
    },
    {
      "cell_type": "code",
      "source": [
        "# Cambiar los índices a 'primero' y 'segundo'\n",
        "new_df.index = ['primero', 'segundo']\n",
        "\n",
        "# Mostrar el nuevo dataframe con los índices cambiados\n",
        "print(new_df)\n"
      ],
      "metadata": {
        "colab": {
          "base_uri": "https://localhost:8080/"
        },
        "id": "gh45Y3s1sYNp",
        "outputId": "b929cbde-2f95-4895-f695-a65f23d9582d"
      },
      "id": "gh45Y3s1sYNp",
      "execution_count": 4,
      "outputs": [
        {
          "output_type": "stream",
          "name": "stdout",
          "text": [
            "         col4\n",
            "primero     7\n",
            "segundo     8\n"
          ]
        }
      ]
    },
    {
      "cell_type": "markdown",
      "id": "a3fb276d",
      "metadata": {
        "id": "a3fb276d"
      },
      "source": []
    },
    {
      "cell_type": "markdown",
      "id": "8e7a5d3b",
      "metadata": {
        "id": "8e7a5d3b"
      },
      "source": [
        "___"
      ]
    },
    {
      "cell_type": "markdown",
      "id": "1087c522",
      "metadata": {
        "id": "1087c522"
      },
      "source": [
        "## Q 37-01\n",
        "\n",
        "Escriba un comando para buscar datos faltantes en el dataframe `df` creado en la pregunta **Q 34-01** e imprima el resultado.\n",
        "\n",
        "(Sin embargo, los datos que faltan deben devolverse como verdaderos)."
      ]
    },
    {
      "cell_type": "code",
      "source": [
        "# Buscar datos faltantes (nulos) en el DataFrame df\n",
        "missing_data = df.isnull()\n",
        "\n",
        "# Imprimir el resultado\n",
        "print(missing_data)\n"
      ],
      "metadata": {
        "colab": {
          "base_uri": "https://localhost:8080/"
        },
        "id": "sVcrMTXcshdi",
        "outputId": "f040ab0c-1215-49c2-9182-567222c11188"
      },
      "id": "sVcrMTXcshdi",
      "execution_count": 5,
      "outputs": [
        {
          "output_type": "stream",
          "name": "stdout",
          "text": [
            "    col1   col2   col3   col4\n",
            "0  False  False  False  False\n",
            "1  False  False  False  False\n"
          ]
        }
      ]
    },
    {
      "cell_type": "markdown",
      "id": "aa984b53",
      "metadata": {
        "id": "aa984b53"
      },
      "source": []
    },
    {
      "cell_type": "markdown",
      "id": "ab5e3562",
      "metadata": {
        "id": "ab5e3562"
      },
      "source": [
        "___"
      ]
    },
    {
      "cell_type": "markdown",
      "id": "e060ee29",
      "metadata": {
        "id": "e060ee29"
      },
      "source": [
        "## Q 38-01\n",
        "\n",
        "Escriba un comando para verificar el resumen de las estadísticas descriptivas (desviación estándar, valor mínimo, moda, etc.) del dataframe `df` creado en la pregunta **Q 34-01** e imprima el resultado."
      ]
    },
    {
      "cell_type": "code",
      "source": [
        "# Obtener el resumen de las estadísticas descriptivas del DataFrame df\n",
        "summary_statistics = df.describe()\n",
        "\n",
        "# Imprimir el resultado\n",
        "print(summary_statistics)\n"
      ],
      "metadata": {
        "colab": {
          "base_uri": "https://localhost:8080/"
        },
        "id": "YVoW-43YsqDp",
        "outputId": "e421fb4c-cf5d-4e3c-9754-b9a536d18a1f"
      },
      "id": "YVoW-43YsqDp",
      "execution_count": 6,
      "outputs": [
        {
          "output_type": "stream",
          "name": "stdout",
          "text": [
            "           col1      col2      col3      col4\n",
            "count  2.000000  2.000000  2.000000  2.000000\n",
            "mean   1.500000  3.500000  5.500000  7.500000\n",
            "std    0.707107  0.707107  0.707107  0.707107\n",
            "min    1.000000  3.000000  5.000000  7.000000\n",
            "25%    1.250000  3.250000  5.250000  7.250000\n",
            "50%    1.500000  3.500000  5.500000  7.500000\n",
            "75%    1.750000  3.750000  5.750000  7.750000\n",
            "max    2.000000  4.000000  6.000000  8.000000\n"
          ]
        }
      ]
    },
    {
      "cell_type": "code",
      "source": [
        "# Calcular la moda de cada columna\n",
        "mode_values = df.mode()\n",
        "\n",
        "# Imprimir el resultado de la moda\n",
        "print(mode_values)\n"
      ],
      "metadata": {
        "colab": {
          "base_uri": "https://localhost:8080/"
        },
        "id": "h8akPvyussdy",
        "outputId": "2a92d52b-eec2-47cb-c0a5-9c9af5df4ff1"
      },
      "id": "h8akPvyussdy",
      "execution_count": 7,
      "outputs": [
        {
          "output_type": "stream",
          "name": "stdout",
          "text": [
            "   col1  col2  col3  col4\n",
            "0     1     3     5     7\n",
            "1     2     4     6     8\n"
          ]
        }
      ]
    },
    {
      "cell_type": "markdown",
      "id": "2ecfe672",
      "metadata": {
        "id": "2ecfe672"
      },
      "source": []
    },
    {
      "cell_type": "markdown",
      "id": "84a390f6",
      "metadata": {
        "id": "84a390f6"
      },
      "source": [
        "___"
      ]
    },
    {
      "cell_type": "markdown",
      "id": "23d7b61e",
      "metadata": {
        "id": "23d7b61e"
      },
      "source": [
        "# Fin"
      ]
    }
  ],
  "metadata": {
    "kernelspec": {
      "display_name": "Python 3 (ipykernel)",
      "language": "python",
      "name": "python3"
    },
    "language_info": {
      "codemirror_mode": {
        "name": "ipython",
        "version": 3
      },
      "file_extension": ".py",
      "mimetype": "text/x-python",
      "name": "python",
      "nbconvert_exporter": "python",
      "pygments_lexer": "ipython3",
      "version": "3.10.12"
    },
    "colab": {
      "provenance": [],
      "include_colab_link": true
    }
  },
  "nbformat": 4,
  "nbformat_minor": 5
}