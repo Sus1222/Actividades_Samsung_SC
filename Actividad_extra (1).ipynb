{
  "nbformat": 4,
  "nbformat_minor": 0,
  "metadata": {
    "colab": {
      "provenance": []
    },
    "kernelspec": {
      "name": "python3",
      "display_name": "Python 3"
    },
    "language_info": {
      "name": "python"
    }
  },
  "cells": [
    {
      "cell_type": "code",
      "execution_count": 1,
      "metadata": {
        "colab": {
          "base_uri": "https://localhost:8080/"
        },
        "id": "dCKpYNSxh9SI",
        "outputId": "df66e724-3ba5-474d-88f3-417a774973d6"
      },
      "outputs": [
        {
          "output_type": "stream",
          "name": "stdout",
          "text": [
            "Elemento 10 agregado al inicio del deque.\n",
            "Elemento 20 agregado al final del deque.\n",
            "Elemento 10 removido del inicio del deque.\n",
            "Elemento 20 removido del final del deque.\n"
          ]
        },
        {
          "output_type": "execute_result",
          "data": {
            "text/plain": [
              "20"
            ]
          },
          "metadata": {},
          "execution_count": 1
        }
      ],
      "source": [
        "class Deque:\n",
        "    def __init__(self):\n",
        "        self._deque = []\n",
        "\n",
        "    def add_first(self, item):\n",
        "\n",
        "        self._deque.insert(0, item)\n",
        "        print(f\"Elemento {item} agregado al inicio del deque.\")\n",
        "\n",
        "    def remove_first(self):\n",
        "        # Remueve y retorna el primer elemento del deque\n",
        "        if self._deque:\n",
        "            item = self._deque.pop(0)\n",
        "            print(f\"Elemento {item} removido del inicio del deque.\")\n",
        "            return item\n",
        "        else:\n",
        "            print(\"El deque está vacío. No se puede remover el primer elemento.\")\n",
        "            return None\n",
        "\n",
        "    def add_last(self, item):\n",
        "\n",
        "        self._deque.append(item)\n",
        "        print(f\"Elemento {item} agregado al final del deque.\")\n",
        "\n",
        "    def remove_last(self):\n",
        "\n",
        "        if self._deque:\n",
        "            item = self._deque.pop()\n",
        "            print(f\"Elemento {item} removido del final del deque.\")\n",
        "            return item\n",
        "        else:\n",
        "            print(\"El deque está vacío. No se puede remover el último elemento.\")\n",
        "            return None\n",
        "\n",
        "# Aplicacion\n",
        "deque = Deque()\n",
        "deque.add_first(10)   # Agrega 10 al inicio\n",
        "deque.add_last(20)    # Agrega 20 al final\n",
        "deque.remove_first()  # Remueve el primer elemento (10)\n",
        "deque.remove_last()   # Remueve el último elemento (20)\n"
      ]
    }
  ]
}