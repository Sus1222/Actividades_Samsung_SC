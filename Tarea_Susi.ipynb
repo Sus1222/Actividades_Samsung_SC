{
  "nbformat": 4,
  "nbformat_minor": 0,
  "metadata": {
    "colab": {
      "provenance": []
    },
    "kernelspec": {
      "name": "python3",
      "display_name": "Python 3"
    },
    "language_info": {
      "name": "python"
    }
  },
  "cells": [
    {
      "cell_type": "code",
      "execution_count": null,
      "metadata": {
        "colab": {
          "base_uri": "https://localhost:8080/"
        },
        "id": "VGFT-16qvpdD",
        "outputId": "7dc96362-4df6-43e9-9e3d-1ed581adddc8"
      },
      "outputs": [
        {
          "output_type": "stream",
          "name": "stdout",
          "text": [
            "maria\n",
            "juan\n",
            "pedro\n"
          ]
        }
      ],
      "source": [
        "lista= (\"maria\", \"juan\", \"pedro\")\n",
        "\n",
        "for elemento in lista:\n",
        "  print(elemento)"
      ]
    },
    {
      "cell_type": "code",
      "source": [
        "lista= (\"maria\", \"juan\", \"pedro\")\n",
        "\n",
        "for elemento in lista:\n",
        "  print (elemento, lista.index(elemento))"
      ],
      "metadata": {
        "colab": {
          "base_uri": "https://localhost:8080/"
        },
        "id": "muLOQuIEwRxv",
        "outputId": "62cd504f-7e3a-4eef-8d00-f128dd3bf67c"
      },
      "execution_count": null,
      "outputs": [
        {
          "output_type": "stream",
          "name": "stdout",
          "text": [
            "maria 0\n",
            "juan 1\n",
            "pedro 2\n"
          ]
        }
      ]
    },
    {
      "cell_type": "code",
      "source": [
        "id = 111234\n",
        "clave = 6478\n",
        "cuenta = 3000\n",
        "\n",
        "def Ver_Estado():\n",
        "    print(f\"\\nSu saldo es: {cuenta}\")\n",
        "try:\n",
        "    key = int(input(\"Introduzca clave: \"))\n",
        "    print(\"Clave ingresada:\", key)\n",
        "    if key == clave:\n",
        "        while True:\n",
        "            opc = int(input(\"\"\"\\nSeleccione la operación:\n",
        "            1. Estado de cuenta\n",
        "            2. Depósito\n",
        "            3. Retiro\n",
        "            4. Salir\\n\"\"\"))\n",
        "\n",
        "            if opc == 1:\n",
        "                Ver_Estado()\n",
        "            elif opc == 2:\n",
        "                monto = int(input(\"Introduzca el monto a depositar: \"))\n",
        "                cuenta += monto\n",
        "                print(f\"Depósito exitoso. Nuevo saldo: {cuenta}\")\n",
        "            elif opc == 3:\n",
        "                monto = int(input(\"Introduzca el monto a retirar: \"))\n",
        "                if monto <= cuenta:\n",
        "                    cuenta -= monto\n",
        "                    print(f\"Retiro exitoso. Nuevo saldo: {cuenta}\")\n",
        "                else:\n",
        "                    print(\"Fondos insuficientes.\")\n",
        "            elif opc == 4:\n",
        "                print(\"Gracias por usar nuestros servicios. Saliendo...\")\n",
        "                break\n",
        "            else:\n",
        "                print(\"Opción inválida. Intente de nuevo.\")\n",
        "    else:\n",
        "        print(\"Clave incorrecta.\")\n",
        "except ValueError:\n",
        "    print(\"Información incorrecta. Por favor ingrese números válidos.\")"
      ],
      "metadata": {
        "colab": {
          "base_uri": "https://localhost:8080/"
        },
        "id": "T0AW-ABJ9vr9",
        "outputId": "dba17eb1-bf0a-4068-c316-926fce935b3b"
      },
      "execution_count": null,
      "outputs": [
        {
          "output_type": "stream",
          "name": "stdout",
          "text": [
            "Introduzca clave: 6478\n",
            "Clave ingresada: 6478\n",
            "\n",
            "Seleccione la operación:\n",
            "            1. Estado de cuenta\n",
            "            2. Depósito\n",
            "            3. Retiro\n",
            "            4. Salir\n",
            "2\n",
            "Introduzca el monto a depositar: 678\n",
            "Depósito exitoso. Nuevo saldo: 3678\n",
            "\n",
            "Seleccione la operación:\n",
            "            1. Estado de cuenta\n",
            "            2. Depósito\n",
            "            3. Retiro\n",
            "            4. Salir\n",
            "4\n",
            "Gracias por usar nuestros servicios. Saliendo...\n"
          ]
        }
      ]
    },
    {
      "cell_type": "code",
      "source": [],
      "metadata": {
        "id": "2UOQvt75-x4x"
      },
      "execution_count": null,
      "outputs": []
    }
  ]
}