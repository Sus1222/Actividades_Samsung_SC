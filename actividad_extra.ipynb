{
  "nbformat": 4,
  "nbformat_minor": 0,
  "metadata": {
    "colab": {
      "provenance": []
    },
    "kernelspec": {
      "name": "python3",
      "display_name": "Python 3"
    },
    "language_info": {
      "name": "python"
    }
  },
  "cells": [
    {
      "cell_type": "markdown",
      "source": [
        "* Desarrollar la clase Director con sus respectivos metodos encapsulados para trabajar con los atributos: nombre y posición\n",
        "* Desarrollar la clase Empleado con sus respectivos metodos encapsulados para trabajar con los atributos: nombre y id"
      ],
      "metadata": {
        "id": "0AmbPo9EPD8B"
      }
    },
    {
      "cell_type": "code",
      "execution_count": 3,
      "metadata": {
        "colab": {
          "base_uri": "https://localhost:8080/"
        },
        "id": "dBs490RpO4Me",
        "outputId": "ebe008b9-6295-475b-d7c7-9344c9f235b5"
      },
      "outputs": [
        {
          "output_type": "stream",
          "name": "stdout",
          "text": [
            "Director:\n",
            "Nombre: Juan\n",
            "Posición: Gerente\n",
            "\n",
            "Empleado:\n",
            "Nombre: Julia\n",
            "ID: 121222\n"
          ]
        }
      ],
      "source": [
        "class Persona:\n",
        "    def __init__(self, name):\n",
        "        self.__name = name\n",
        "\n",
        "    def get_name(self):\n",
        "        return self.__name\n",
        "\n",
        "    def set_name(self, name):\n",
        "        self.__name = name\n",
        "\n",
        "class Director(Persona):\n",
        "    def __init__(self, name, position):\n",
        "        super().__init__(name)\n",
        "        self.__position = position\n",
        "\n",
        "    # Métodos encapsulados para `position`\n",
        "    def get_position(self):\n",
        "        return self.__position\n",
        "\n",
        "    def set_position(self, position):\n",
        "        self.__position = position\n",
        "\n",
        "class Empleado(Persona):\n",
        "    def __init__(self, name, emp_id):\n",
        "        super().__init__(name)\n",
        "        self.__emp_id = emp_id\n",
        "\n",
        "    # Métodos encapsulados para `emp_id`\n",
        "    def get_emp_id(self):\n",
        "        return self.__emp_id\n",
        "\n",
        "    def set_emp_id(self, emp_id):\n",
        "        self.__emp_id = emp_id\n",
        "\n",
        "# Ejemplo de uso\n",
        "director = Director(\"Juan\", \"Gerente\")\n",
        "empleado = Empleado(\"Julia\", 121222)\n",
        "\n",
        "# Acceso a los atributos encapsulados\n",
        "print(\"Director:\")\n",
        "print(\"Nombre:\", director.get_name())\n",
        "print(\"Posición:\", director.get_position())\n",
        "\n",
        "print(\"\\nEmpleado:\")\n",
        "print(\"Nombre:\", empleado.get_name())\n",
        "print(\"ID:\", empleado.get_emp_id())"
      ]
    }
  ]
}